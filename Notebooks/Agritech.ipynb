{
 "cells": [
  {
   "cell_type": "code",
   "execution_count": 21,
   "id": "10b7b3a6",
   "metadata": {},
   "outputs": [],
   "source": [
    "import os\n",
    "from glob import glob\n",
    "import matplotlib.pyplot as plt\n",
    "import rasterio as rio\n",
    "from rasterio.plot import plotting_extent\n",
    "import geopandas as gpd\n",
    "import earthpy as et\n",
    "import earthpy.spatial as es\n",
    "import earthpy.plot as ep\n",
    "\n",
    "from osgeo import gdal\n",
    "import numpy as np\n",
    "import matplotlib.pyplot as plt"
   ]
  },
  {
   "cell_type": "code",
   "execution_count": 22,
   "id": "6cfea7df",
   "metadata": {},
   "outputs": [
    {
     "data": {
      "text/plain": [
       "'/home/ec2-user/SageMaker/Satellite_AgriTech_USGS_LIDAR/Notebooks'"
      ]
     },
     "execution_count": 22,
     "metadata": {},
     "output_type": "execute_result"
    }
   ],
   "source": [
    "pwd"
   ]
  },
  {
   "cell_type": "code",
   "execution_count": 23,
   "id": "82fb181f",
   "metadata": {},
   "outputs": [],
   "source": [
    "landsat_bands_data_path = \"/home/ec2-user/SageMaker/Satellite_AgriTech_USGS_LIDAR/Data/iowa.tif\"\n",
    "stack_band_paths = glob(landsat_bands_data_path)"
   ]
  },
  {
   "cell_type": "code",
   "execution_count": 24,
   "id": "66e18608",
   "metadata": {},
   "outputs": [],
   "source": [
    "stack_band_paths.sort()"
   ]
  },
  {
   "cell_type": "code",
   "execution_count": 25,
   "id": "a7d19901",
   "metadata": {},
   "outputs": [
    {
     "data": {
      "text/plain": [
       "['/home/ec2-user/SageMaker/Satellite_AgriTech_USGS_LIDAR/Data/iowa.tif']"
      ]
     },
     "execution_count": 25,
     "metadata": {},
     "output_type": "execute_result"
    }
   ],
   "source": [
    "stack_band_paths"
   ]
  },
  {
   "cell_type": "code",
   "execution_count": 27,
   "id": "b20ac181",
   "metadata": {},
   "outputs": [],
   "source": [
    "ds = gdal.Open(\"/home/ec2-user/SageMaker/Satellite_AgriTech_USGS_LIDAR/Data/iowa.tif\")\n",
    "gt = ds.GetGeoTransform()\n",
    "proj = ds.GetProjection()"
   ]
  },
  {
   "cell_type": "code",
   "execution_count": 28,
   "id": "f836cb2d",
   "metadata": {},
   "outputs": [
    {
     "name": "stdout",
     "output_type": "stream",
     "text": [
      "(446112.7027723251, 1.0, 0.0, 4654068.173126178, 0.0, -1.0)\n"
     ]
    }
   ],
   "source": [
    "print(gt)"
   ]
  },
  {
   "cell_type": "code",
   "execution_count": 29,
   "id": "b69cf87d",
   "metadata": {},
   "outputs": [
    {
     "name": "stdout",
     "output_type": "stream",
     "text": [
      "PROJCS[\"NAD83 / UTM zone 15N\",GEOGCS[\"NAD83\",DATUM[\"North_American_Datum_1983\",SPHEROID[\"GRS 1980\",6378137,298.257222101,AUTHORITY[\"EPSG\",\"7019\"]],AUTHORITY[\"EPSG\",\"6269\"]],PRIMEM[\"Greenwich\",0,AUTHORITY[\"EPSG\",\"8901\"]],UNIT[\"degree\",0.0174532925199433,AUTHORITY[\"EPSG\",\"9122\"]],AUTHORITY[\"EPSG\",\"4269\"]],PROJECTION[\"Transverse_Mercator\"],PARAMETER[\"latitude_of_origin\",0],PARAMETER[\"central_meridian\",-93],PARAMETER[\"scale_factor\",0.9996],PARAMETER[\"false_easting\",500000],PARAMETER[\"false_northing\",0],UNIT[\"metre\",1,AUTHORITY[\"EPSG\",\"9001\"]],AXIS[\"Easting\",EAST],AXIS[\"Northing\",NORTH],AUTHORITY[\"EPSG\",\"26915\"]]\n"
     ]
    }
   ],
   "source": [
    "print(proj)"
   ]
  },
  {
   "cell_type": "code",
   "execution_count": 30,
   "id": "e8e9f96b",
   "metadata": {},
   "outputs": [],
   "source": [
    "band = ds.GetRasterBand(1)\n",
    "array = band.ReadAsArray()"
   ]
  },
  {
   "cell_type": "code",
   "execution_count": 31,
   "id": "13ac84f6",
   "metadata": {},
   "outputs": [
    {
     "data": {
      "text/plain": [
       "<matplotlib.image.AxesImage at 0x7ff3b9fbf208>"
      ]
     },
     "execution_count": 31,
     "metadata": {},
     "output_type": "execute_result"
    },
    {
     "data": {
      "image/png": "[encoded data removed]",
      "text/plain": [
       "<Figure size 432x288 with 1 Axes>"
      ]
     },
     "metadata": {
      "needs_background": "light"
     },
     "output_type": "display_data"
    }
   ],
   "source": [
    "plt.figure()\n",
    "plt.imshow(array)"
   ]
  },
  {
   "cell_type": "code",
   "execution_count": 32,
   "id": "1b54dc96",
   "metadata": {},
   "outputs": [
    {
     "data": {
      "text/plain": [
       "<matplotlib.image.AxesImage at 0x7ff3b8e107b8>"
      ]
     },
     "execution_count": 32,
     "metadata": {},
     "output_type": "execute_result"
    },
    {
     "data": {
      "image/png": "[encoded data removed]",
      "text/plain": [
       "<Figure size 432x288 with 1 Axes>"
      ]
     },
     "metadata": {
      "needs_background": "light"
     },
     "output_type": "display_data"
    }
   ],
   "source": [
    "#manipulate into numpy array \n",
    "binmask = np.where((array >= np.mean(array)),1,0)\n",
    "plt.figure()\n",
    "plt.imshow(binmask)"
   ]
  },
  {
   "cell_type": "code",
   "execution_count": 33,
   "id": "221be6cc",
   "metadata": {},
   "outputs": [],
   "source": [
    "#export to gdal file \n",
    "driver = gdal.GetDriverByName(\"GTiff\")\n",
    "driver.Register()\n",
    "outds = driver.Create(\"/home/ec2-user/SageMaker/Satellite_AgriTech_USGS_LIDAR/Data/binmask.tif\", xsize = binmask.shape[1],\n",
    "                      ysize = binmask.shape[0], bands = 1, \n",
    "                      eType = gdal.GDT_Int16)\n",
    "outds.SetGeoTransform(gt)\n",
    "outds.SetProjection(proj)\n",
    "outband = outds.GetRasterBand(1)\n",
    "outband.WriteArray(binmask)\n",
    "outband.SetNoDataValue(np.nan)\n",
    "outband.FlushCache()"
   ]
  },
  {
   "cell_type": "code",
   "execution_count": 34,
   "id": "e9a51db9",
   "metadata": {},
   "outputs": [],
   "source": [
    "outband = None\n",
    "outds = None"
   ]
  },
  {
   "cell_type": "code",
   "execution_count": null,
   "id": "575ddcaf",
   "metadata": {},
   "outputs": [],
   "source": []
  }
 ],
 "metadata": {
  "kernelspec": {
   "display_name": "conda_python3",
   "language": "python",
   "name": "conda_python3"
  },
  "language_info": {
   "codemirror_mode": {
    "name": "ipython",
    "version": 3
   },
   "file_extension": ".py",
   "mimetype": "text/x-python",
   "name": "python",
   "nbconvert_exporter": "python",
   "pygments_lexer": "ipython3",
   "version": "3.6.13"
  }
 },
 "nbformat": 4,
 "nbformat_minor": 5
}
