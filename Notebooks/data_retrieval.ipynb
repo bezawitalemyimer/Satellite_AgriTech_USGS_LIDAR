{
 "cells": [
  {
   "cell_type": "code",
   "execution_count": 1,
   "id": "20332db8",
   "metadata": {},
   "outputs": [],
   "source": [
    "import warnings\n",
    "warnings.filterwarnings('ignore')\n",
    "import requests\n",
    "import folium\n",
    "import urllib\n",
    "from pandas.io.json import json_normalize\n",
    "import pandas as pd\n",
    "import folium\n",
    "from geopandas import GeoDataFrame\n",
    "from shapely.geometry import Point"
   ]
  },
  {
   "cell_type": "code",
   "execution_count": 2,
   "id": "44f96958",
   "metadata": {},
   "outputs": [],
   "source": [
    "dataset_url = \"https://s3-us-west-2.amazonaws.com/usgs-lidar-public/IA_FullState/ept.json\""
   ]
  },
  {
   "cell_type": "code",
   "execution_count": 3,
   "id": "30adda00",
   "metadata": {},
   "outputs": [
    {
     "data": {
      "text/plain": [
       "'https://s3-us-west-2.amazonaws.com/usgs-lidar-public/IA_FullState/ept.json'"
      ]
     },
     "execution_count": 3,
     "metadata": {},
     "output_type": "execute_result"
    }
   ],
   "source": [
    "dataset_url"
   ]
  },
  {
   "cell_type": "code",
   "execution_count": 4,
   "id": "64fa6120",
   "metadata": {},
   "outputs": [
    {
     "data": {
      "text/plain": [
       "<Response [200]>"
      ]
     },
     "execution_count": 4,
     "metadata": {},
     "output_type": "execute_result"
    }
   ],
   "source": [
    "data = requests.get(dataset_url)\n",
    "data"
   ]
  },
  {
   "cell_type": "code",
   "execution_count": 5,
   "id": "f712b66a",
   "metadata": {},
   "outputs": [
    {
     "data": {
      "text/plain": [
       "dict"
      ]
     },
     "execution_count": 5,
     "metadata": {},
     "output_type": "execute_result"
    }
   ],
   "source": [
    "type(data.json())"
   ]
  },
  {
   "cell_type": "code",
   "execution_count": 6,
   "id": "b6b8b8d2",
   "metadata": {},
   "outputs": [
    {
     "data": {
      "text/plain": [
       "{'bounds': [-10758075, 4793202, -361911, -10034133, 5517144, 362031],\n",
       " 'boundsConforming': [-10758074, 4920531, -1897, -10034134, 5389814, 2017],\n",
       " 'dataType': 'laszip',\n",
       " 'hierarchyType': 'json',\n",
       " 'points': 167692896718,\n",
       " 'reprojection': {'in': 'EPSG:26915', 'out': 'EPSG:3857'},\n",
       " 'schema': [{'name': 'X',\n",
       "   'offset': -10396104,\n",
       "   'scale': 0.01,\n",
       "   'size': 4,\n",
       "   'type': 'signed'},\n",
       "  {'name': 'Y', 'offset': 5155173, 'scale': 0.01, 'size': 4, 'type': 'signed'},\n",
       "  {'name': 'Z', 'offset': 60, 'scale': 0.01, 'size': 4, 'type': 'signed'},\n",
       "  {'name': 'Intensity', 'size': 2, 'type': 'unsigned'},\n",
       "  {'name': 'ReturnNumber', 'size': 1, 'type': 'unsigned'},\n",
       "  {'name': 'NumberOfReturns', 'size': 1, 'type': 'unsigned'},\n",
       "  {'name': 'ScanDirectionFlag', 'size': 1, 'type': 'unsigned'},\n",
       "  {'name': 'EdgeOfFlightLine', 'size': 1, 'type': 'unsigned'},\n",
       "  {'name': 'Classification', 'size': 1, 'type': 'unsigned'},\n",
       "  {'name': 'ScanAngleRank', 'size': 4, 'type': 'float'},\n",
       "  {'name': 'UserData', 'size': 1, 'type': 'unsigned'},\n",
       "  {'name': 'PointSourceId', 'size': 2, 'type': 'unsigned'},\n",
       "  {'name': 'GpsTime', 'size': 8, 'type': 'float'},\n",
       "  {'name': 'OriginId', 'size': 4, 'type': 'unsigned'}],\n",
       " 'srs': {'authority': 'EPSG',\n",
       "  'horizontal': '3857',\n",
       "  'wkt': 'PROJCS[\"WGS 84 / Pseudo-Mercator\",GEOGCS[\"WGS 84\",DATUM[\"WGS_1984\",SPHEROID[\"WGS 84\",6378137,298.257223563,AUTHORITY[\"EPSG\",\"7030\"]],AUTHORITY[\"EPSG\",\"6326\"]],PRIMEM[\"Greenwich\",0,AUTHORITY[\"EPSG\",\"8901\"]],UNIT[\"degree\",0.0174532925199433,AUTHORITY[\"EPSG\",\"9122\"]],AUTHORITY[\"EPSG\",\"4326\"]],PROJECTION[\"Mercator_1SP\"],PARAMETER[\"central_meridian\",0],PARAMETER[\"scale_factor\",1],PARAMETER[\"false_easting\",0],PARAMETER[\"false_northing\",0],UNIT[\"metre\",1,AUTHORITY[\"EPSG\",\"9001\"]],AXIS[\"X\",EAST],AXIS[\"Y\",NORTH],EXTENSION[\"PROJ4\",\"+proj=merc +a=6378137 +b=6378137 +lat_ts=0.0 +lon_0=0.0 +x_0=0.0 +y_0=0 +k=1.0 +units=m +nadgrids=@null +wktext +no_defs\"],AUTHORITY[\"EPSG\",\"3857\"]]'},\n",
       " 'version': '1.1.0',\n",
       " 'span': 256}"
      ]
     },
     "execution_count": 6,
     "metadata": {},
     "output_type": "execute_result"
    }
   ],
   "source": [
    "data.json()"
   ]
  },
  {
   "cell_type": "code",
   "execution_count": 7,
   "id": "d75c20da",
   "metadata": {},
   "outputs": [
    {
     "data": {
      "text/html": [
       "<div>\n",
       "<style scoped>\n",
       "    .dataframe tbody tr th:only-of-type {\n",
       "        vertical-align: middle;\n",
       "    }\n",
       "\n",
       "    .dataframe tbody tr th {\n",
       "        vertical-align: top;\n",
       "    }\n",
       "\n",
       "    .dataframe thead th {\n",
       "        text-align: right;\n",
       "    }\n",
       "</style>\n",
       "<table border=\"1\" class=\"dataframe\">\n",
       "  <thead>\n",
       "    <tr style=\"text-align: right;\">\n",
       "      <th></th>\n",
       "      <th>bounds</th>\n",
       "      <th>boundsConforming</th>\n",
       "      <th>dataType</th>\n",
       "      <th>hierarchyType</th>\n",
       "      <th>points</th>\n",
       "      <th>schema</th>\n",
       "      <th>version</th>\n",
       "      <th>span</th>\n",
       "      <th>reprojection.in</th>\n",
       "      <th>reprojection.out</th>\n",
       "      <th>srs.authority</th>\n",
       "      <th>srs.horizontal</th>\n",
       "      <th>srs.wkt</th>\n",
       "    </tr>\n",
       "  </thead>\n",
       "  <tbody>\n",
       "    <tr>\n",
       "      <th>0</th>\n",
       "      <td>[-10758075, 4793202, -361911, -10034133, 55171...</td>\n",
       "      <td>[-10758074, 4920531, -1897, -10034134, 5389814...</td>\n",
       "      <td>laszip</td>\n",
       "      <td>json</td>\n",
       "      <td>167692896718</td>\n",
       "      <td>[{'name': 'X', 'offset': -10396104, 'scale': 0...</td>\n",
       "      <td>1.1.0</td>\n",
       "      <td>256</td>\n",
       "      <td>EPSG:26915</td>\n",
       "      <td>EPSG:3857</td>\n",
       "      <td>EPSG</td>\n",
       "      <td>3857</td>\n",
       "      <td>PROJCS[\"WGS 84 / Pseudo-Mercator\",GEOGCS[\"WGS ...</td>\n",
       "    </tr>\n",
       "  </tbody>\n",
       "</table>\n",
       "</div>"
      ],
      "text/plain": [
       "                                              bounds  \\\n",
       "0  [-10758075, 4793202, -361911, -10034133, 55171...   \n",
       "\n",
       "                                    boundsConforming dataType hierarchyType  \\\n",
       "0  [-10758074, 4920531, -1897, -10034134, 5389814...   laszip          json   \n",
       "\n",
       "         points                                             schema version  \\\n",
       "0  167692896718  [{'name': 'X', 'offset': -10396104, 'scale': 0...   1.1.0   \n",
       "\n",
       "   span reprojection.in reprojection.out srs.authority srs.horizontal  \\\n",
       "0   256      EPSG:26915        EPSG:3857          EPSG           3857   \n",
       "\n",
       "                                             srs.wkt  \n",
       "0  PROJCS[\"WGS 84 / Pseudo-Mercator\",GEOGCS[\"WGS ...  "
      ]
     },
     "execution_count": 7,
     "metadata": {},
     "output_type": "execute_result"
    }
   ],
   "source": [
    "#normalize\n",
    "result = json_normalize(data.json())\n",
    "result"
   ]
  },
  {
   "cell_type": "code",
   "execution_count": 8,
   "id": "775053b2",
   "metadata": {},
   "outputs": [
    {
     "data": {
      "text/html": [
       "<div>\n",
       "<style scoped>\n",
       "    .dataframe tbody tr th:only-of-type {\n",
       "        vertical-align: middle;\n",
       "    }\n",
       "\n",
       "    .dataframe tbody tr th {\n",
       "        vertical-align: top;\n",
       "    }\n",
       "\n",
       "    .dataframe thead th {\n",
       "        text-align: right;\n",
       "    }\n",
       "</style>\n",
       "<table border=\"1\" class=\"dataframe\">\n",
       "  <thead>\n",
       "    <tr style=\"text-align: right;\">\n",
       "      <th></th>\n",
       "      <th>geometry</th>\n",
       "    </tr>\n",
       "  </thead>\n",
       "  <tbody>\n",
       "    <tr>\n",
       "      <th>0</th>\n",
       "      <td>POLYGON ((-93.75616 41.91801, -93.75616 41.921...</td>\n",
       "    </tr>\n",
       "  </tbody>\n",
       "</table>\n",
       "</div>"
      ],
      "text/plain": [
       "                                            geometry\n",
       "0  POLYGON ((-93.75616 41.91801, -93.75616 41.921..."
      ]
     },
     "execution_count": 8,
     "metadata": {},
     "output_type": "execute_result"
    }
   ],
   "source": [
    "import geopandas as gpd\n",
    "from shapely.geometry import Polygon\n",
    "MINX, MINY, MAXX, MAXY = [-93.756155, 41.918015, -93.747334, 41.921429]\n",
    "polygon = Polygon(((MINX, MINY), (MINX, MAXY), (MAXX, MAXY), (MAXX, MINY), (MINX, MINY)))\n",
    "\n",
    "grid = gpd.GeoDataFrame([polygon], columns=[\"geometry\"])\n",
    "grid.set_crs(epsg=4326, inplace=True)"
   ]
  },
  {
   "cell_type": "code",
   "execution_count": 10,
   "id": "e5c2a000",
   "metadata": {},
   "outputs": [],
   "source": [
    "#write back to file\n",
    "grid.to_file(\"iowa.geojson\", driver=\"GeoJSON\")"
   ]
  },
  {
   "cell_type": "code",
   "execution_count": 11,
   "id": "696e0c60",
   "metadata": {},
   "outputs": [],
   "source": [
    "# additional features\n",
    "grid['boundary'] = grid.boundary\n",
    "grid[\"area\"] = grid.area\n",
    "grid['centroid'] = grid.centroid"
   ]
  },
  {
   "cell_type": "code",
   "execution_count": 12,
   "id": "a78f9504",
   "metadata": {},
   "outputs": [
    {
     "data": {
      "text/html": [
       "<div>\n",
       "<style scoped>\n",
       "    .dataframe tbody tr th:only-of-type {\n",
       "        vertical-align: middle;\n",
       "    }\n",
       "\n",
       "    .dataframe tbody tr th {\n",
       "        vertical-align: top;\n",
       "    }\n",
       "\n",
       "    .dataframe thead th {\n",
       "        text-align: right;\n",
       "    }\n",
       "</style>\n",
       "<table border=\"1\" class=\"dataframe\">\n",
       "  <thead>\n",
       "    <tr style=\"text-align: right;\">\n",
       "      <th></th>\n",
       "      <th>geometry</th>\n",
       "      <th>boundary</th>\n",
       "      <th>area</th>\n",
       "      <th>centroid</th>\n",
       "    </tr>\n",
       "  </thead>\n",
       "  <tbody>\n",
       "    <tr>\n",
       "      <th>0</th>\n",
       "      <td>POLYGON ((-93.75616 41.91801, -93.75616 41.921...</td>\n",
       "      <td>LINESTRING (-93.75616 41.91801, -93.75616 41.9...</td>\n",
       "      <td>0.00003</td>\n",
       "      <td>POINT (-93.75174 41.91972)</td>\n",
       "    </tr>\n",
       "  </tbody>\n",
       "</table>\n",
       "</div>"
      ],
      "text/plain": [
       "                                            geometry  \\\n",
       "0  POLYGON ((-93.75616 41.91801, -93.75616 41.921...   \n",
       "\n",
       "                                            boundary     area  \\\n",
       "0  LINESTRING (-93.75616 41.91801, -93.75616 41.9...  0.00003   \n",
       "\n",
       "                     centroid  \n",
       "0  POINT (-93.75174 41.91972)  "
      ]
     },
     "execution_count": 12,
     "metadata": {},
     "output_type": "execute_result"
    }
   ],
   "source": [
    "grid"
   ]
  },
  {
   "cell_type": "code",
   "execution_count": 13,
   "id": "01d9bbf4",
   "metadata": {},
   "outputs": [
    {
     "data": {
      "text/plain": [
       "<AxesSubplot:>"
      ]
     },
     "execution_count": 13,
     "metadata": {},
     "output_type": "execute_result"
    },
    {
     "data": {
      "image/png": "[encoded data removed]",
      "text/plain": [
       "<Figure size 432x288 with 2 Axes>"
      ]
     },
     "metadata": {
      "needs_background": "light"
     },
     "output_type": "display_data"
    }
   ],
   "source": [
    "grid.plot(\"area\", legend=True)"
   ]
  },
  {
   "cell_type": "code",
   "execution_count": 14,
   "id": "23284b64",
   "metadata": {},
   "outputs": [
    {
     "data": {
      "text/plain": [
       "<AxesSubplot:>"
      ]
     },
     "execution_count": 14,
     "metadata": {},
     "output_type": "execute_result"
    },
    {
     "data": {
      "image/png": "[encoded data removed]",
      "text/plain": [
       "<Figure size 432x288 with 2 Axes>"
      ]
     },
     "metadata": {
      "needs_background": "light"
     },
     "output_type": "display_data"
    }
   ],
   "source": [
    "grid1 = grid.set_geometry(\"centroid\")\n",
    "grid1.plot(\"area\", legend=True)"
   ]
  },
  {
   "cell_type": "code",
   "execution_count": 15,
   "id": "c8d45907",
   "metadata": {},
   "outputs": [
    {
     "data": {
      "text/plain": [
       "<Geographic 2D CRS: EPSG:4326>\n",
       "Name: WGS 84\n",
       "Axis Info [ellipsoidal]:\n",
       "- Lat[north]: Geodetic latitude (degree)\n",
       "- Lon[east]: Geodetic longitude (degree)\n",
       "Area of Use:\n",
       "- name: World.\n",
       "- bounds: (-180.0, -90.0, 180.0, 90.0)\n",
       "Datum: World Geodetic System 1984\n",
       "- Ellipsoid: WGS 84\n",
       "- Prime Meridian: Greenwich"
      ]
     },
     "execution_count": 15,
     "metadata": {},
     "output_type": "execute_result"
    }
   ],
   "source": [
    "grid.crs"
   ]
  },
  {
   "cell_type": "code",
   "execution_count": 16,
   "id": "99c78c80",
   "metadata": {},
   "outputs": [
    {
     "data": {
      "text/plain": [
       "'/home/ec2-user/SageMaker'"
      ]
     },
     "execution_count": 16,
     "metadata": {},
     "output_type": "execute_result"
    }
   ],
   "source": [
    "pwd"
   ]
  },
  {
   "cell_type": "code",
   "execution_count": null,
   "id": "9ff439e4",
   "metadata": {},
   "outputs": [],
   "source": []
  }
 ],
 "metadata": {
  "kernelspec": {
   "display_name": "conda_python3",
   "language": "python",
   "name": "conda_python3"
  },
  "language_info": {
   "codemirror_mode": {
    "name": "ipython",
    "version": 3
   },
   "file_extension": ".py",
   "mimetype": "text/x-python",
   "name": "python",
   "nbconvert_exporter": "python",
   "pygments_lexer": "ipython3",
   "version": "3.6.13"
  }
 },
 "nbformat": 4,
 "nbformat_minor": 5
}
